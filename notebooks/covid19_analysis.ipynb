{
 "cells": [
  {
   "cell_type": "markdown",
   "id": "1deea02c",
   "metadata": {},
   "source": [
    "# Package Installation\n",
    "First, let's install the required Python packages using pip."
   ]
  },
  {
   "cell_type": "code",
   "execution_count": 5,
   "id": "c5972db3",
   "metadata": {},
   "outputs": [
    {
     "name": "stderr",
     "output_type": "stream",
     "text": [
      "1107.44s - pydevd: Sending message related to process being replaced timed-out after 5 seconds\n"
     ]
    },
    {
     "name": "stdout",
     "output_type": "stream",
     "text": [
      "Requirement already satisfied: pandas in /home/johnlimo/Desktop/PLP Academy work/Python/covid-19-tracker/venv/lib/python3.12/site-packages (2.2.3)\n",
      "Requirement already satisfied: numpy in /home/johnlimo/Desktop/PLP Academy work/Python/covid-19-tracker/venv/lib/python3.12/site-packages (2.2.5)\n",
      "Requirement already satisfied: matplotlib in /home/johnlimo/Desktop/PLP Academy work/Python/covid-19-tracker/venv/lib/python3.12/site-packages (3.10.1)\n",
      "Requirement already satisfied: seaborn in /home/johnlimo/Desktop/PLP Academy work/Python/covid-19-tracker/venv/lib/python3.12/site-packages (0.13.2)\n",
      "Collecting plotly\n",
      "Collecting plotly\n",
      "  Downloading plotly-6.0.1-py3-none-any.whl.metadata (6.7 kB)\n",
      "  Downloading plotly-6.0.1-py3-none-any.whl.metadata (6.7 kB)\n",
      "Requirement already satisfied: python-dateutil>=2.8.2 in /home/johnlimo/Desktop/PLP Academy work/Python/covid-19-tracker/venv/lib/python3.12/site-packages (from pandas) (2.9.0.post0)\n",
      "Requirement already satisfied: pytz>=2020.1 in /home/johnlimo/Desktop/PLP Academy work/Python/covid-19-tracker/venv/lib/python3.12/site-packages (from pandas) (2025.2)\n",
      "Requirement already satisfied: tzdata>=2022.7 in /home/johnlimo/Desktop/PLP Academy work/Python/covid-19-tracker/venv/lib/python3.12/site-packages (from pandas) (2025.2)\n",
      "Requirement already satisfied: python-dateutil>=2.8.2 in /home/johnlimo/Desktop/PLP Academy work/Python/covid-19-tracker/venv/lib/python3.12/site-packages (from pandas) (2.9.0.post0)\n",
      "Requirement already satisfied: pytz>=2020.1 in /home/johnlimo/Desktop/PLP Academy work/Python/covid-19-tracker/venv/lib/python3.12/site-packages (from pandas) (2025.2)\n",
      "Requirement already satisfied: tzdata>=2022.7 in /home/johnlimo/Desktop/PLP Academy work/Python/covid-19-tracker/venv/lib/python3.12/site-packages (from pandas) (2025.2)\n",
      "Requirement already satisfied: contourpy>=1.0.1 in /home/johnlimo/Desktop/PLP Academy work/Python/covid-19-tracker/venv/lib/python3.12/site-packages (from matplotlib) (1.3.2)\n",
      "Requirement already satisfied: cycler>=0.10 in /home/johnlimo/Desktop/PLP Academy work/Python/covid-19-tracker/venv/lib/python3.12/site-packages (from matplotlib) (0.12.1)\n",
      "Requirement already satisfied: fonttools>=4.22.0 in /home/johnlimo/Desktop/PLP Academy work/Python/covid-19-tracker/venv/lib/python3.12/site-packages (from matplotlib) (4.57.0)\n",
      "Requirement already satisfied: kiwisolver>=1.3.1 in /home/johnlimo/Desktop/PLP Academy work/Python/covid-19-tracker/venv/lib/python3.12/site-packages (from matplotlib) (1.4.8)\n",
      "Requirement already satisfied: packaging>=20.0 in /home/johnlimo/Desktop/PLP Academy work/Python/covid-19-tracker/venv/lib/python3.12/site-packages (from matplotlib) (25.0)\n",
      "Requirement already satisfied: pillow>=8 in /home/johnlimo/Desktop/PLP Academy work/Python/covid-19-tracker/venv/lib/python3.12/site-packages (from matplotlib) (11.2.1)\n",
      "Requirement already satisfied: pyparsing>=2.3.1 in /home/johnlimo/Desktop/PLP Academy work/Python/covid-19-tracker/venv/lib/python3.12/site-packages (from matplotlib) (3.2.3)\n",
      "Requirement already satisfied: contourpy>=1.0.1 in /home/johnlimo/Desktop/PLP Academy work/Python/covid-19-tracker/venv/lib/python3.12/site-packages (from matplotlib) (1.3.2)\n",
      "Requirement already satisfied: cycler>=0.10 in /home/johnlimo/Desktop/PLP Academy work/Python/covid-19-tracker/venv/lib/python3.12/site-packages (from matplotlib) (0.12.1)\n",
      "Requirement already satisfied: fonttools>=4.22.0 in /home/johnlimo/Desktop/PLP Academy work/Python/covid-19-tracker/venv/lib/python3.12/site-packages (from matplotlib) (4.57.0)\n",
      "Requirement already satisfied: kiwisolver>=1.3.1 in /home/johnlimo/Desktop/PLP Academy work/Python/covid-19-tracker/venv/lib/python3.12/site-packages (from matplotlib) (1.4.8)\n",
      "Requirement already satisfied: packaging>=20.0 in /home/johnlimo/Desktop/PLP Academy work/Python/covid-19-tracker/venv/lib/python3.12/site-packages (from matplotlib) (25.0)\n",
      "Requirement already satisfied: pillow>=8 in /home/johnlimo/Desktop/PLP Academy work/Python/covid-19-tracker/venv/lib/python3.12/site-packages (from matplotlib) (11.2.1)\n",
      "Requirement already satisfied: pyparsing>=2.3.1 in /home/johnlimo/Desktop/PLP Academy work/Python/covid-19-tracker/venv/lib/python3.12/site-packages (from matplotlib) (3.2.3)\n",
      "Collecting narwhals>=1.15.1 (from plotly)\n",
      "Collecting narwhals>=1.15.1 (from plotly)\n",
      "  Downloading narwhals-1.38.1-py3-none-any.whl.metadata (9.3 kB)\n",
      "  Downloading narwhals-1.38.1-py3-none-any.whl.metadata (9.3 kB)\n",
      "Requirement already satisfied: six>=1.5 in /home/johnlimo/Desktop/PLP Academy work/Python/covid-19-tracker/venv/lib/python3.12/site-packages (from python-dateutil>=2.8.2->pandas) (1.17.0)\n",
      "Requirement already satisfied: six>=1.5 in /home/johnlimo/Desktop/PLP Academy work/Python/covid-19-tracker/venv/lib/python3.12/site-packages (from python-dateutil>=2.8.2->pandas) (1.17.0)\n",
      "Downloading plotly-6.0.1-py3-none-any.whl (14.8 MB)\n",
      "\u001b[?25l   \u001b[90m━━━━━━━━━━━━━━━━━━━━━━━━━━━━━━━━━━━━━━━━\u001b[0m \u001b[32m0.0/14.8 MB\u001b[0m \u001b[31m?\u001b[0m eta \u001b[36m-:--:--\u001b[0mDownloading plotly-6.0.1-py3-none-any.whl (14.8 MB)\n",
      "\u001b[2K   \u001b[90m━━━━━━━━━━━━━━━━━━━━━━━━━━━━━━━━━━━━━━━━\u001b[0m \u001b[32m14.8/14.8 MB\u001b[0m \u001b[31m180.3 kB/s\u001b[0m eta \u001b[36m0:00:00\u001b[0m00:01\u001b[0m00:03\u001b[0m\n",
      "\u001b[2K   \u001b[90m━━━━━━━━━━━━━━━━━━━━━━━━━━━━━━━━━━━━━━━━\u001b[0m \u001b[32m14.8/14.8 MB\u001b[0m \u001b[31m180.3 kB/s\u001b[0m eta \u001b[36m0:00:00\u001b[0m\n",
      "\u001b[?25hDownloading narwhals-1.38.1-py3-none-any.whl (338 kB)\n",
      "\u001b[?25lDownloading narwhals-1.38.1-py3-none-any.whl (338 kB)\n",
      "\u001b[2K   \u001b[90m━━━━━━━━━━━━━━━━━━━━━━━━━━━━━━━━━━━━━━━\u001b[0m \u001b[32m338.4/338.4 kB\u001b[0m \u001b[31m206.3 kB/s\u001b[0m eta \u001b[36m0:00:00\u001b[0ma \u001b[36m0:00:01\u001b[0m━━━━━━━━━━━━━━━━━━━━━━\u001b[0m \u001b[32m0.0/338.4 kB\u001b[0m \u001b[31m?\u001b[0m eta \u001b[36m-:--:--\u001b[0m\n",
      "\u001b[2K   \u001b[90m━━━━━━━━━━━━━━━━━━━━━━━━━━━━━━━━━━━━━━━\u001b[0m \u001b[32m338.4/338.4 kB\u001b[0m \u001b[31m206.3 kB/s\u001b[0m eta \u001b[36m0:00:00\u001b[0m\n",
      "\u001b[?25hInstalling collected packages: narwhals, plotly\n",
      "Installing collected packages: narwhals, plotly\n",
      "Successfully installed narwhals-1.38.1 plotly-6.0.1\n",
      "Successfully installed narwhals-1.38.1 plotly-6.0.1\n",
      "Note: you may need to restart the kernel to use updated packages.\n",
      "Note: you may need to restart the kernel to use updated packages.\n"
     ]
    }
   ],
   "source": [
    "%pip install pandas numpy matplotlib seaborn plotly"
   ]
  },
  {
   "cell_type": "markdown",
   "id": "dd7269d4",
   "metadata": {},
   "source": [
    "# COVID-19 Global Data Analysis\n",
    "\n",
    "This notebook presents a comprehensive analysis of global COVID-19 data, including cases, deaths, and vaccination progress."
   ]
  },
  {
   "cell_type": "code",
   "execution_count": null,
   "id": "06d9998d",
   "metadata": {},
   "outputs": [
    {
     "name": "stderr",
     "output_type": "stream",
     "text": [
      "INFO:data_loader:Downloading data from web...\n"
     ]
    }
   ],
   "source": [
    "import sys\n",
    "sys.path.append('../src')\n",
    "from data_loader import CovidDataLoader\n",
    "\n",
    "import numpy as np\n",
    "import pandas as pd\n",
    "import matplotlib.pyplot as plt\n",
    "import seaborn as sns\n",
    "import plotly.express as px\n",
    "import plotly.graph_objects as go\n",
    "\n",
    "# Initialize and load data\n",
    "loader = CovidDataLoader()\n",
    "df = loader.load_data()\n",
    "df_clean = loader.clean_data()"
   ]
  },
  {
   "cell_type": "markdown",
   "id": "fc185f89",
   "metadata": {},
   "source": [
    "## Key Insights\n",
    "Let's examine the latest statistics and trends across countries."
   ]
  },
  {
   "cell_type": "code",
   "execution_count": null,
   "id": "ed512974",
   "metadata": {},
   "outputs": [],
   "source": [
    "insights = loader.get_key_insights()\n",
    "print(f\"As of {insights['date']}, {insights['highest_cases']['country']} leads in total cases\")\n",
    "\n",
    "# Display all visualizations\n",
    "loader.plot_total_cases()\n",
    "loader.plot_new_cases_trend()\n",
    "loader.plot_vaccination_progress()"
   ]
  },
  {
   "cell_type": "markdown",
   "id": "1f08594f",
   "metadata": {},
   "source": [
    "## Growth Rate Analysis\n",
    "Calculate and analyze the case doubling time for each country during the first 90 days of their pandemic."
   ]
  },
  {
   "cell_type": "code",
   "execution_count": null,
   "id": "94e19a03",
   "metadata": {},
   "outputs": [],
   "source": [
    "def calculate_doubling_time(country_name, start_date, end_date):\n",
    "    country_data = df_clean[(df_clean['location'] == country_name) & \n",
    "                           (df_clean['date'] >= start_date) & \n",
    "                           (df_clean['date'] <= end_date)]\n",
    "    if len(country_data) < 2:\n",
    "        return np.nan\n",
    "    cases = country_data['total_cases'].values\n",
    "    days = len(country_data)\n",
    "    growth_rate = (cases[-1] / cases[0]) ** (1/days) - 1\n",
    "    if growth_rate <= 0:\n",
    "        return np.inf\n",
    "    return np.log(2) / np.log(1 + growth_rate)\n",
    "\n",
    "# Calculate doubling time for each country\n",
    "for country in loader.countries_of_interest:\n",
    "    country_data = df_clean[df_clean['location'] == country]\n",
    "    start_date = country_data['date'].min()\n",
    "    end_date = start_date + pd.Timedelta(days=90)\n",
    "    doubling_time = calculate_doubling_time(country, start_date, end_date)\n",
    "    print(f\"{country} had a case doubling time of {round(doubling_time, 1)} days in the first 90 days.\")"
   ]
  },
  {
   "cell_type": "markdown",
   "id": "5286b3b3",
   "metadata": {},
   "source": [
    "## Correlation Analysis\n",
    "Examine relationships between different COVID-19 metrics and socioeconomic indicators."
   ]
  },
  {
   "cell_type": "code",
   "execution_count": null,
   "id": "0ee93687",
   "metadata": {},
   "outputs": [],
   "source": [
    "# Get latest data for correlation analysis\n",
    "latest_data = loader.get_latest_data()\n",
    "corr_data = latest_data[['total_cases', 'total_deaths', 'total_vaccinations', \n",
    "                         'population', 'gdp_per_capita']]\n",
    "\n",
    "# Create correlation matrix\n",
    "corr_matrix = corr_data.corr()\n",
    "\n",
    "# Plot heatmap\n",
    "plt.figure(figsize=(10, 8))\n",
    "sns.heatmap(corr_matrix, annot=True, cmap='coolwarm', center=0)\n",
    "plt.title('Correlation Matrix of COVID-19 Metrics', fontsize=16)\n",
    "plt.tight_layout()\n",
    "plt.show()"
   ]
  }
 ],
 "metadata": {
  "kernelspec": {
   "display_name": "venv",
   "language": "python",
   "name": "python3"
  },
  "language_info": {
   "codemirror_mode": {
    "name": "ipython",
    "version": 3
   },
   "file_extension": ".py",
   "mimetype": "text/x-python",
   "name": "python",
   "nbconvert_exporter": "python",
   "pygments_lexer": "ipython3",
   "version": "3.12.3"
  }
 },
 "nbformat": 4,
 "nbformat_minor": 5
}
