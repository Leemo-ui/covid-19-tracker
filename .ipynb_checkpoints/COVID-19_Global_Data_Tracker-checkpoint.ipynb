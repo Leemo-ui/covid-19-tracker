{
 "cells": [
  {
   "cell_type": "markdown",
   "id": "bd36d94e",
   "metadata": {},
   "source": [
    "# COVID-19 Global Data Analysis\n",
    "\n",
    "This notebook analyzes global COVID-19 trends including:\n",
    "- Case and death trends\n",
    "- Vaccination progress\n",
    "- Country comparisons\n",
    "- Geographic visualizations"
   ]
  },
  {
   "cell_type": "markdown",
   "id": "7774a08b",
   "metadata": {},
   "source": [
    "## Package Installation and Setup\n",
    "Please run each cell below sequentially and wait for completion before proceeding."
   ]
  },
  {
   "cell_type": "code",
   "execution_count": null,
   "id": "842d125b",
   "metadata": {},
   "outputs": [],
   "source": [
    "# Install core data analysis packages\n",
    "%pip install --quiet pandas numpy matplotlib seaborn"
   ]
  },
  {
   "cell_type": "code",
   "execution_count": null,
   "id": "cdf5c81f",
   "metadata": {},
   "outputs": [],
   "source": [
    "# Install visualization packages\n",
    "%pip install --quiet plotly folium"
   ]
  },
  {
   "cell_type": "code",
   "execution_count": 1,
   "id": "3a7252dc",
   "metadata": {},
   "outputs": [
    {
     "name": "stdout",
     "output_type": "stream",
     "text": [
      "Please restart the kernel now before continuing...\n"
     ]
    }
   ],
   "source": [
    "print(\"Please restart the kernel now before continuing...\")"
   ]
  },
  {
   "cell_type": "code",
   "execution_count": null,
   "id": "d6b3cc30",
   "metadata": {},
   "outputs": [],
   "source": [
    "# Import packages with error handling\n",
    "try:\n",
    "    import pandas as pd\n",
    "    import numpy as np\n",
    "    import matplotlib.pyplot as plt\n",
    "    import seaborn as sns\n",
    "    import plotly.express as px\n",
    "    import folium\n",
    "    from datetime import datetime\n",
    "    import warnings\n",
    "    \n",
    "    # Configure plotting with proper style\n",
    "    warnings.filterwarnings('ignore')\n",
    "    plt.style.use('default')  # Using default matplotlib style instead of seaborn\n",
    "    sns.set_style(\"whitegrid\")  # Set seaborn style separately\n",
    "    %matplotlib inline\n",
    "    \n",
    "    print(\"All packages imported successfully!\")\n",
    "except ImportError as e:\n",
    "    print(f\"Error importing package: {e}\")\n",
    "    print(\"Please make sure you have restarted the kernel after installing packages\")\n",
    "    raise"
   ]
  },
  {
   "cell_type": "markdown",
   "id": "f8d7dbfb",
   "metadata": {},
   "source": [
    "## 1. Data Collection and Loading"
   ]
  },
  {
   "cell_type": "code",
   "execution_count": null,
   "id": "5e108293",
   "metadata": {},
   "outputs": [
    {
     "name": "stdout",
     "output_type": "stream",
     "text": [
      "Error loading data: name 'pd' is not defined\n",
      "Attempting to load from local backup...\n",
      "Could not load data from any source\n"
     ]
    },
    {
     "ename": "NameError",
     "evalue": "name 'pd' is not defined",
     "output_type": "error",
     "traceback": [
      "\u001b[31m---------------------------------------------------------------------------\u001b[39m",
      "\u001b[31mNameError\u001b[39m                                 Traceback (most recent call last)",
      "\u001b[36mCell\u001b[39m\u001b[36m \u001b[39m\u001b[32mIn[2]\u001b[39m\u001b[32m, line 4\u001b[39m\n\u001b[32m      3\u001b[39m URL = \u001b[33m'\u001b[39m\u001b[33mhttps://raw.githubusercontent.com/owid/covid-19-data/master/public/data/owid-covid-data.csv\u001b[39m\u001b[33m'\u001b[39m\n\u001b[32m----> \u001b[39m\u001b[32m4\u001b[39m df = \u001b[43mpd\u001b[49m.read_csv(URL)\n\u001b[32m      6\u001b[39m \u001b[38;5;66;03m# Save local copy\u001b[39;00m\n",
      "\u001b[31mNameError\u001b[39m: name 'pd' is not defined",
      "\nDuring handling of the above exception, another exception occurred:\n",
      "\u001b[31mNameError\u001b[39m                                 Traceback (most recent call last)",
      "\u001b[36mCell\u001b[39m\u001b[36m \u001b[39m\u001b[32mIn[2]\u001b[39m\u001b[32m, line 16\u001b[39m\n\u001b[32m     14\u001b[39m \u001b[38;5;28mprint\u001b[39m(\u001b[33m\"\u001b[39m\u001b[33mAttempting to load from local backup...\u001b[39m\u001b[33m\"\u001b[39m)\n\u001b[32m     15\u001b[39m \u001b[38;5;28;01mtry\u001b[39;00m:\n\u001b[32m---> \u001b[39m\u001b[32m16\u001b[39m     df = \u001b[43mpd\u001b[49m.read_csv(\u001b[33m'\u001b[39m\u001b[33mdata/owid-covid-data.csv\u001b[39m\u001b[33m'\u001b[39m)\n\u001b[32m     17\u001b[39m     \u001b[38;5;28mprint\u001b[39m(\u001b[33m\"\u001b[39m\u001b[33mSuccessfully loaded from local backup\u001b[39m\u001b[33m\"\u001b[39m)\n\u001b[32m     18\u001b[39m \u001b[38;5;28;01mexcept\u001b[39;00m:\n",
      "\u001b[31mNameError\u001b[39m: name 'pd' is not defined"
     ]
    }
   ],
   "source": [
    "# Data loading with error handling\n",
    "try:\n",
    "    # Use local data file instead of URL\n",
    "    DATA_PATH = '../data/owid-covid-data.csv'\n",
    "    df = pd.read_csv(DATA_PATH)\n",
    "    \n",
    "    print(f\"Dataset shape: {df.shape}\")\n",
    "    print(\"\\nColumns:\", df.columns.tolist())\n",
    "    print(\"\\nDate range:\", df['date'].min(), 'to', df['date'].max())\n",
    "except Exception as e:\n",
    "    print(f\"Error loading data: {e}\")\n",
    "    print(\"Please ensure the data file exists in the data directory\")\n",
    "    raise"
   ]
  },
  {
   "cell_type": "markdown",
   "id": "93b96244",
   "metadata": {},
   "source": [
    "## 2. Data Cleaning and Preprocessing"
   ]
  }
 ],
 "metadata": {
  "kernelspec": {
   "display_name": "venv",
   "language": "python",
   "name": "python3"
  },
  "language_info": {
   "codemirror_mode": {
    "name": "ipython",
    "version": 3
   },
   "file_extension": ".py",
   "mimetype": "text/x-python",
   "name": "python",
   "nbconvert_exporter": "python",
   "pygments_lexer": "ipython3",
   "version": "3.12.3"
  }
 },
 "nbformat": 4,
 "nbformat_minor": 5
}
